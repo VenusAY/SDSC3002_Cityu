{
 "cells": [
  {
   "cell_type": "code",
   "execution_count": 1,
   "id": "613ba9b6-6fc3-45e0-946b-a17361989117",
   "metadata": {},
   "outputs": [
    {
     "name": "stdout",
     "output_type": "stream",
     "text": [
      "Requirement already satisfied: numpy in c:\\users\\fyauyeung2\\appdata\\local\\anaconda3\\lib\\site-packages (1.26.4)\n",
      "Requirement already satisfied: pandas in c:\\users\\fyauyeung2\\appdata\\local\\anaconda3\\lib\\site-packages (2.1.4)\n",
      "Requirement already satisfied: scikit-surprise in c:\\users\\fyauyeung2\\appdata\\local\\anaconda3\\lib\\site-packages (1.1.3)\n",
      "Requirement already satisfied: python-dateutil>=2.8.2 in c:\\users\\fyauyeung2\\appdata\\local\\anaconda3\\lib\\site-packages (from pandas) (2.8.2)\n",
      "Requirement already satisfied: pytz>=2020.1 in c:\\users\\fyauyeung2\\appdata\\local\\anaconda3\\lib\\site-packages (from pandas) (2023.3.post1)\n",
      "Requirement already satisfied: tzdata>=2022.1 in c:\\users\\fyauyeung2\\appdata\\local\\anaconda3\\lib\\site-packages (from pandas) (2023.3)\n",
      "Requirement already satisfied: joblib>=1.0.0 in c:\\users\\fyauyeung2\\appdata\\local\\anaconda3\\lib\\site-packages (from scikit-surprise) (1.2.0)\n",
      "Requirement already satisfied: scipy>=1.3.2 in c:\\users\\fyauyeung2\\appdata\\local\\anaconda3\\lib\\site-packages (from scikit-surprise) (1.11.4)\n",
      "Requirement already satisfied: six>=1.5 in c:\\users\\fyauyeung2\\appdata\\local\\anaconda3\\lib\\site-packages (from python-dateutil>=2.8.2->pandas) (1.16.0)\n",
      "Note: you may need to restart the kernel to use updated packages.\n"
     ]
    }
   ],
   "source": [
    "pip install numpy pandas scikit-surprise"
   ]
  },
  {
   "cell_type": "code",
   "execution_count": 2,
   "id": "8f50983d-8aa5-4bfd-bffb-e8196e7d2059",
   "metadata": {},
   "outputs": [],
   "source": [
    "import pandas as pd\n",
    "from surprise import SVD, Dataset, Reader, accuracy\n",
    "from surprise.model_selection import KFold,cross_validate, train_test_split"
   ]
  },
  {
   "cell_type": "code",
   "execution_count": 3,
   "id": "eaa45358-df15-4d0e-b2ce-3f3d0e5635c2",
   "metadata": {},
   "outputs": [],
   "source": [
    "train_data = pd.read_csv('training.txt', names=['user', 'item', 'rating'],header=None, sep=',')"
   ]
  },
  {
   "cell_type": "code",
   "execution_count": 4,
   "id": "e30ae275-3606-45f3-ae03-e1c8b8cb167f",
   "metadata": {},
   "outputs": [],
   "source": [
    "train_data['rating'] = train_data['rating'].astype('float16')"
   ]
  },
  {
   "cell_type": "code",
   "execution_count": 5,
   "id": "315fade1-bc4f-422a-adaa-3289754c9cdd",
   "metadata": {},
   "outputs": [
    {
     "data": {
      "text/html": [
       "<div>\n",
       "<style scoped>\n",
       "    .dataframe tbody tr th:only-of-type {\n",
       "        vertical-align: middle;\n",
       "    }\n",
       "\n",
       "    .dataframe tbody tr th {\n",
       "        vertical-align: top;\n",
       "    }\n",
       "\n",
       "    .dataframe thead th {\n",
       "        text-align: right;\n",
       "    }\n",
       "</style>\n",
       "<table border=\"1\" class=\"dataframe\">\n",
       "  <thead>\n",
       "    <tr style=\"text-align: right;\">\n",
       "      <th></th>\n",
       "      <th>user</th>\n",
       "      <th>item</th>\n",
       "      <th>rating</th>\n",
       "    </tr>\n",
       "  </thead>\n",
       "  <tbody>\n",
       "    <tr>\n",
       "      <th>0</th>\n",
       "      <td>1</td>\n",
       "      <td>1</td>\n",
       "      <td>4.0</td>\n",
       "    </tr>\n",
       "    <tr>\n",
       "      <th>1</th>\n",
       "      <td>2</td>\n",
       "      <td>2</td>\n",
       "      <td>2.5</td>\n",
       "    </tr>\n",
       "    <tr>\n",
       "      <th>2</th>\n",
       "      <td>4</td>\n",
       "      <td>4</td>\n",
       "      <td>3.0</td>\n",
       "    </tr>\n",
       "    <tr>\n",
       "      <th>3</th>\n",
       "      <td>5</td>\n",
       "      <td>5</td>\n",
       "      <td>5.0</td>\n",
       "    </tr>\n",
       "    <tr>\n",
       "      <th>4</th>\n",
       "      <td>6</td>\n",
       "      <td>6</td>\n",
       "      <td>3.5</td>\n",
       "    </tr>\n",
       "  </tbody>\n",
       "</table>\n",
       "</div>"
      ],
      "text/plain": [
       "   user  item  rating\n",
       "0     1     1     4.0\n",
       "1     2     2     2.5\n",
       "2     4     4     3.0\n",
       "3     5     5     5.0\n",
       "4     6     6     3.5"
      ]
     },
     "execution_count": 5,
     "metadata": {},
     "output_type": "execute_result"
    }
   ],
   "source": [
    "train_data.head()"
   ]
  },
  {
   "cell_type": "code",
   "execution_count": 6,
   "id": "d75e6e93-5932-4edc-9e99-4915a3cf05ba",
   "metadata": {},
   "outputs": [
    {
     "data": {
      "text/plain": [
       "(19996916, 3)"
      ]
     },
     "execution_count": 6,
     "metadata": {},
     "output_type": "execute_result"
    }
   ],
   "source": [
    "train_data.shape"
   ]
  },
  {
   "cell_type": "markdown",
   "id": "802a28bd-edff-4ed1-8eab-0744635bc851",
   "metadata": {},
   "source": [
    "train the model"
   ]
  },
  {
   "cell_type": "code",
   "execution_count": 7,
   "id": "42434815-bd73-452b-8363-55aa182d446d",
   "metadata": {},
   "outputs": [],
   "source": [
    "reader = Reader(rating_scale=(0, 5))\n",
    "data = Dataset.load_from_df(train_data, reader)"
   ]
  },
  {
   "cell_type": "code",
   "execution_count": 8,
   "id": "735ebb31-49d4-4f41-b6e6-ea6f94f034ae",
   "metadata": {},
   "outputs": [],
   "source": [
    "# Using SVD\n",
    "model = SVD()"
   ]
  },
  {
   "cell_type": "code",
   "execution_count": 9,
   "id": "18ec7482-4362-42dd-bfce-6201844e7dbc",
   "metadata": {},
   "outputs": [
    {
     "name": "stdout",
     "output_type": "stream",
     "text": [
      "Evaluating RMSE of algorithm SVD on 10 split(s).\n",
      "\n",
      "                  Fold 1  Fold 2  Fold 3  Fold 4  Fold 5  Fold 6  Fold 7  Fold 8  Fold 9  Fold 10 Mean    Std     \n",
      "RMSE (testset)    0.7828  0.7835  0.7845  0.7841  0.7836  0.7840  0.7832  0.7841  0.7839  0.7835  0.7837  0.0005  \n",
      "Fit time          162.57  165.27  166.79  166.44  187.66  188.58  184.89  171.47  179.41  189.41  176.25  10.28   \n",
      "Test time         23.81   17.97   22.04   20.56   26.18   23.58   24.02   19.97   25.29   21.80   22.52   2.41    \n",
      "Mean RMSE:  0.7837187074824679\n"
     ]
    }
   ],
   "source": [
    "# Perform 10-fold cross-validation\n",
    "cross_val_results = cross_validate(model, data, measures=['RMSE'], cv=10, verbose=True)\n",
    "print(\"Mean RMSE: \", sum(cross_val_results['test_rmse']) / len(cross_val_results['test_rmse']))"
   ]
  },
  {
   "cell_type": "code",
   "execution_count": 10,
   "id": "a4282f8e-3cc6-4891-a697-bc3be67d0c0f",
   "metadata": {},
   "outputs": [
    {
     "data": {
      "text/plain": [
       "<surprise.prediction_algorithms.matrix_factorization.SVD at 0x1303818c710>"
      ]
     },
     "execution_count": 10,
     "metadata": {},
     "output_type": "execute_result"
    }
   ],
   "source": [
    "# Train on the full dataset\n",
    "trainset = data.build_full_trainset()\n",
    "model.fit(trainset)"
   ]
  },
  {
   "cell_type": "code",
   "execution_count": 11,
   "id": "49fec671-fa2e-45b0-949a-40e6dc0c6588",
   "metadata": {},
   "outputs": [
    {
     "data": {
      "text/html": [
       "<div>\n",
       "<style scoped>\n",
       "    .dataframe tbody tr th:only-of-type {\n",
       "        vertical-align: middle;\n",
       "    }\n",
       "\n",
       "    .dataframe tbody tr th {\n",
       "        vertical-align: top;\n",
       "    }\n",
       "\n",
       "    .dataframe thead th {\n",
       "        text-align: right;\n",
       "    }\n",
       "</style>\n",
       "<table border=\"1\" class=\"dataframe\">\n",
       "  <thead>\n",
       "    <tr style=\"text-align: right;\">\n",
       "      <th></th>\n",
       "      <th>user</th>\n",
       "      <th>item</th>\n",
       "      <th>rating</th>\n",
       "    </tr>\n",
       "  </thead>\n",
       "  <tbody>\n",
       "    <tr>\n",
       "      <th>0</th>\n",
       "      <td>3</td>\n",
       "      <td>3</td>\n",
       "      <td>?</td>\n",
       "    </tr>\n",
       "    <tr>\n",
       "      <th>1</th>\n",
       "      <td>9</td>\n",
       "      <td>9</td>\n",
       "      <td>?</td>\n",
       "    </tr>\n",
       "    <tr>\n",
       "      <th>2</th>\n",
       "      <td>10</td>\n",
       "      <td>10</td>\n",
       "      <td>?</td>\n",
       "    </tr>\n",
       "    <tr>\n",
       "      <th>3</th>\n",
       "      <td>11</td>\n",
       "      <td>11</td>\n",
       "      <td>?</td>\n",
       "    </tr>\n",
       "    <tr>\n",
       "      <th>4</th>\n",
       "      <td>19</td>\n",
       "      <td>19</td>\n",
       "      <td>?</td>\n",
       "    </tr>\n",
       "  </tbody>\n",
       "</table>\n",
       "</div>"
      ],
      "text/plain": [
       "   user  item rating\n",
       "0     3     3      ?\n",
       "1     9     9      ?\n",
       "2    10    10      ?\n",
       "3    11    11      ?\n",
       "4    19    19      ?"
      ]
     },
     "execution_count": 11,
     "metadata": {},
     "output_type": "execute_result"
    }
   ],
   "source": [
    "# Load the testing data\n",
    "test_data = pd.read_csv('testing.txt', names=['user', 'item', 'rating'], sep=',')\n",
    "test_data.head()"
   ]
  },
  {
   "cell_type": "code",
   "execution_count": 12,
   "id": "b0e9bd69-a33b-478f-aab6-464872e4d78b",
   "metadata": {},
   "outputs": [
    {
     "data": {
      "text/plain": [
       "(5003179, 3)"
      ]
     },
     "execution_count": 12,
     "metadata": {},
     "output_type": "execute_result"
    }
   ],
   "source": [
    "test_data.shape"
   ]
  },
  {
   "cell_type": "code",
   "execution_count": 13,
   "id": "8d0c0933-857a-440b-8010-565b650989fd",
   "metadata": {},
   "outputs": [],
   "source": [
    "predictions = []\n",
    "for index, row in test_data.iterrows():\n",
    "    pred = model.predict(row['user'], row['item']).est\n",
    "    predictions.append(pred)"
   ]
  },
  {
   "cell_type": "code",
   "execution_count": 20,
   "id": "98913d71-9992-4b04-b454-3a1ca366b795",
   "metadata": {},
   "outputs": [],
   "source": [
    "test_data['rating'] = predictions\n",
    "test_data['rating'] = round(test_data['rating'],4)"
   ]
  },
  {
   "cell_type": "code",
   "execution_count": 21,
   "id": "b2cb5d43-4a88-4233-88ad-abbec7a7649f",
   "metadata": {},
   "outputs": [
    {
     "data": {
      "text/html": [
       "<div>\n",
       "<style scoped>\n",
       "    .dataframe tbody tr th:only-of-type {\n",
       "        vertical-align: middle;\n",
       "    }\n",
       "\n",
       "    .dataframe tbody tr th {\n",
       "        vertical-align: top;\n",
       "    }\n",
       "\n",
       "    .dataframe thead th {\n",
       "        text-align: right;\n",
       "    }\n",
       "</style>\n",
       "<table border=\"1\" class=\"dataframe\">\n",
       "  <thead>\n",
       "    <tr style=\"text-align: right;\">\n",
       "      <th></th>\n",
       "      <th>user</th>\n",
       "      <th>item</th>\n",
       "      <th>rating</th>\n",
       "    </tr>\n",
       "  </thead>\n",
       "  <tbody>\n",
       "    <tr>\n",
       "      <th>0</th>\n",
       "      <td>3</td>\n",
       "      <td>3</td>\n",
       "      <td>3.7034</td>\n",
       "    </tr>\n",
       "    <tr>\n",
       "      <th>1</th>\n",
       "      <td>9</td>\n",
       "      <td>9</td>\n",
       "      <td>4.3248</td>\n",
       "    </tr>\n",
       "    <tr>\n",
       "      <th>2</th>\n",
       "      <td>10</td>\n",
       "      <td>10</td>\n",
       "      <td>2.6940</td>\n",
       "    </tr>\n",
       "    <tr>\n",
       "      <th>3</th>\n",
       "      <td>11</td>\n",
       "      <td>11</td>\n",
       "      <td>3.3719</td>\n",
       "    </tr>\n",
       "    <tr>\n",
       "      <th>4</th>\n",
       "      <td>19</td>\n",
       "      <td>19</td>\n",
       "      <td>4.0275</td>\n",
       "    </tr>\n",
       "    <tr>\n",
       "      <th>...</th>\n",
       "      <td>...</td>\n",
       "      <td>...</td>\n",
       "      <td>...</td>\n",
       "    </tr>\n",
       "    <tr>\n",
       "      <th>5003174</th>\n",
       "      <td>8474</td>\n",
       "      <td>2950</td>\n",
       "      <td>3.1654</td>\n",
       "    </tr>\n",
       "    <tr>\n",
       "      <th>5003175</th>\n",
       "      <td>7921</td>\n",
       "      <td>5199</td>\n",
       "      <td>2.3255</td>\n",
       "    </tr>\n",
       "    <tr>\n",
       "      <th>5003176</th>\n",
       "      <td>10010</td>\n",
       "      <td>808</td>\n",
       "      <td>2.5379</td>\n",
       "    </tr>\n",
       "    <tr>\n",
       "      <th>5003177</th>\n",
       "      <td>5986</td>\n",
       "      <td>1887</td>\n",
       "      <td>2.8306</td>\n",
       "    </tr>\n",
       "    <tr>\n",
       "      <th>5003178</th>\n",
       "      <td>11353</td>\n",
       "      <td>1505</td>\n",
       "      <td>3.8623</td>\n",
       "    </tr>\n",
       "  </tbody>\n",
       "</table>\n",
       "<p>5003179 rows × 3 columns</p>\n",
       "</div>"
      ],
      "text/plain": [
       "          user  item  rating\n",
       "0            3     3  3.7034\n",
       "1            9     9  4.3248\n",
       "2           10    10  2.6940\n",
       "3           11    11  3.3719\n",
       "4           19    19  4.0275\n",
       "...        ...   ...     ...\n",
       "5003174   8474  2950  3.1654\n",
       "5003175   7921  5199  2.3255\n",
       "5003176  10010   808  2.5379\n",
       "5003177   5986  1887  2.8306\n",
       "5003178  11353  1505  3.8623\n",
       "\n",
       "[5003179 rows x 3 columns]"
      ]
     },
     "execution_count": 21,
     "metadata": {},
     "output_type": "execute_result"
    }
   ],
   "source": [
    "test_data"
   ]
  },
  {
   "cell_type": "code",
   "execution_count": 22,
   "id": "6c7aa236-ea9c-4c3e-94fd-ae1cc92deaeb",
   "metadata": {},
   "outputs": [],
   "source": [
    "# Save the predictions\n",
    "test_data.to_csv('prediction.txt', index=False, header=False, sep=',')"
   ]
  },
  {
   "cell_type": "code",
   "execution_count": null,
   "id": "09f5a90d-fb98-435f-9763-fe103cf1b021",
   "metadata": {},
   "outputs": [],
   "source": [
    "#training part of svd runtime is around 45 minutes"
   ]
  }
 ],
 "metadata": {
  "kernelspec": {
   "display_name": "Python 3 (ipykernel)",
   "language": "python",
   "name": "python3"
  },
  "language_info": {
   "codemirror_mode": {
    "name": "ipython",
    "version": 3
   },
   "file_extension": ".py",
   "mimetype": "text/x-python",
   "name": "python",
   "nbconvert_exporter": "python",
   "pygments_lexer": "ipython3",
   "version": "3.11.5"
  }
 },
 "nbformat": 4,
 "nbformat_minor": 5
}
