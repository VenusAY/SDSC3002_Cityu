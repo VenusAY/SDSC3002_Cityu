{
 "cells": [
  {
   "cell_type": "code",
   "execution_count": 2,
   "id": "c3ac7416",
   "metadata": {},
   "outputs": [],
   "source": [
    "import time\n",
    "start_time = time.time()"
   ]
  },
  {
   "cell_type": "code",
   "execution_count": 5,
   "id": "0618384b",
   "metadata": {},
   "outputs": [],
   "source": [
    "from collections import defaultdict\n",
    "class Graph:\n",
    "    def __init__(self):\n",
    "        self.nodes = defaultdict(list)\n",
    "        self.degree = defaultdict(int)\n",
    "    \n",
    "    def extract_data(self,filename):\n",
    "        with open(filename) as file: #'DBLP.txt'\n",
    "            data=file.readlines()[1:]\n",
    "        for i in data:\n",
    "            u,v = map(int,i.split())\n",
    "            self.nodes[u].append(v)\n",
    "            self.nodes[v].append(u)\n",
    "            \n",
    "        for i in list(self.nodes.keys()):\n",
    "            self.degree[i] = len(self.nodes[i])\n",
    "    \n",
    "    def core_num(self):\n",
    "        neighbours = self.nodes.copy()\n",
    "        degree = self.degree.copy()\n",
    "        degree_sorted = sorted(degree, key = degree.get)\n",
    "        bin_boundaries = [0]\n",
    "        current_degree = 0\n",
    "        \n",
    "        #node position in degree_sorted\n",
    "        nodes_pos = {v:pos for pos,v in enumerate(degree_sorted)} \n",
    "        \n",
    "        for i,v in enumerate(degree_sorted):\n",
    "            if degree[v] > current_degree:\n",
    "                bin_boundaries.extend([i]*(degree[v] - current_degree))\n",
    "                current_degree = degree[v] #update              \n",
    "\n",
    "\n",
    "        k_core = degree.copy()\n",
    "        \n",
    "        for v in degree_sorted:\n",
    "            for u in neighbours[v]:\n",
    "                if k_core[u] > k_core[v]:\n",
    "                    #remove existing edge\n",
    "                    neighbours[u].remove(v)\n",
    "                    # find the position of node u\n",
    "                    pos = nodes_pos[u]\n",
    "                    bin_start = bin_boundaries[k_core[u]]\n",
    "                    nodes_pos[u] = bin_start\n",
    "                    nodes_pos[degree_sorted[bin_start]] = pos\n",
    "                    #swapping\n",
    "                    degree_sorted[bin_start],degree_sorted[pos] = degree_sorted[pos],degree_sorted[bin_start]\n",
    "                    bin_boundaries[k_core[u]]+=1\n",
    "                    k_core[u]-=1\n",
    "        return k_core\n",
    "                "
   ]
  },
  {
   "cell_type": "code",
   "execution_count": 6,
   "id": "f8b031ea",
   "metadata": {},
   "outputs": [],
   "source": [
    "g = Graph()\n",
    "g.extract_data('DBLP.txt')\n",
    "core_num = g.core_num()"
   ]
  },
  {
   "cell_type": "code",
   "execution_count": 8,
   "id": "3843bb33",
   "metadata": {},
   "outputs": [],
   "source": [
    "with open(\"result.txt\", 'w') as f: \n",
    "    for key, value in core_num.items(): \n",
    "        f.write('%s:%s\\n' % (key, value))"
   ]
  },
  {
   "cell_type": "code",
   "execution_count": 10,
   "id": "18f950cd",
   "metadata": {},
   "outputs": [
    {
     "name": "stdout",
     "output_type": "stream",
     "text": [
      "Time using: 1716.7291615009308 seconds\n"
     ]
    }
   ],
   "source": [
    "print(\"Time using: %s seconds\" % (time.time() - start_time))"
   ]
  },
  {
   "cell_type": "code",
   "execution_count": null,
   "id": "8e0ba63d",
   "metadata": {},
   "outputs": [],
   "source": []
  }
 ],
 "metadata": {
  "kernelspec": {
   "display_name": "Python 3 (ipykernel)",
   "language": "python",
   "name": "python3"
  },
  "language_info": {
   "codemirror_mode": {
    "name": "ipython",
    "version": 3
   },
   "file_extension": ".py",
   "mimetype": "text/x-python",
   "name": "python",
   "nbconvert_exporter": "python",
   "pygments_lexer": "ipython3",
   "version": "3.11.5"
  }
 },
 "nbformat": 4,
 "nbformat_minor": 5
}
